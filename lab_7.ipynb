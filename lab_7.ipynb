{
 "cells": [
  {
   "cell_type": "code",
   "execution_count": 1,
   "metadata": {},
   "outputs": [
    {
     "name": "stdout",
     "output_type": "stream",
     "text": [
      "Решение системы:  [ 0.  -1.5  1.5]\n"
     ]
    }
   ],
   "source": [
    "import numpy as np\n",
    "\n",
    "def gaussian_elimination(A, b):\n",
    "    n = len(A)\n",
    "    # Формируем расширенную матрицу C\n",
    "    C = np.hstack([A, b.reshape(-1, 1)])\n",
    "\n",
    "    # Прямой ход метода Гаусса с выбором главного элемента\n",
    "    for i in range(n):\n",
    "        # Выбираем главный элемент в столбце\n",
    "        max_row = np.argmax(np.abs(C[i:n, i])) + i\n",
    "        C[[i, max_row]] = C[[max_row, i]]  # Меняем местами строки\n",
    "\n",
    "        # Преобразуем матрицу в верхнюю треугольную\n",
    "        for j in range(i+1, n):\n",
    "            m = C[j, i] / C[i, i]\n",
    "            C[j, i:] -= m * C[i, i:]\n",
    "\n",
    "    # Обратный ход\n",
    "    x = np.zeros(n)\n",
    "    for i in range(n-1, -1, -1):\n",
    "        x[i] = (C[i, -1] - np.dot(C[i, i+1:n], x[i+1:])) / C[i, i]\n",
    "\n",
    "    return x\n",
    "\n",
    "# Пример использования\n",
    "A = np.array([[2, -1, 1], [3, 3, 9], [3, 3, 5]], dtype=float)\n",
    "b = np.array([3, 9, 3], dtype=float)\n",
    "\n",
    "# Решение системы\n",
    "x = gaussian_elimination(A, b)\n",
    "\n",
    "print(\"Решение системы: \", x)\n"
   ]
  }
 ],
 "metadata": {
  "kernelspec": {
   "display_name": "Python 3",
   "language": "python",
   "name": "python3"
  },
  "language_info": {
   "codemirror_mode": {
    "name": "ipython",
    "version": 3
   },
   "file_extension": ".py",
   "mimetype": "text/x-python",
   "name": "python",
   "nbconvert_exporter": "python",
   "pygments_lexer": "ipython3",
   "version": "3.12.1"
  }
 },
 "nbformat": 4,
 "nbformat_minor": 2
}
