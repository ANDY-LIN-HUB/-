{
 "cells": [
  {
   "cell_type": "code",
   "execution_count": 1,
   "metadata": {},
   "outputs": [
    {
     "name": "stdout",
     "output_type": "stream",
     "text": [
      "1.1 Положительная граница машинного нуля:\n",
      "Для float32: E_k = 5e-324, итерации: 1074\n",
      "Для float64: E_k = 5e-324, итерации: 1074\n",
      "\n",
      "1.2 Машинное эпсилон:\n",
      "Для float32: E_k = 2.220446049250313e-16, итерации: 52\n",
      "Для float64: E_k = 2.220446049250313e-16, итерации: 52\n"
     ]
    }
   ],
   "source": [
    "import numpy as np\n",
    "\n",
    "def find_machine_zero(dtype):\n",
    "    E_k = dtype(1.0)  # начальное знач.\n",
    "    k = 0  # каунтер\n",
    "\n",
    "    while E_k > 0:\n",
    "        E_k_next = E_k / 2\n",
    "        if E_k_next == 0:\n",
    "            break\n",
    "        E_k = E_k_next\n",
    "        k += 1\n",
    "\n",
    "    return E_k, k\n",
    "\n",
    "\n",
    "result_f32 = find_machine_zero(np.float32)\n",
    "result_f64 = find_machine_zero(np.float64)\n",
    "\n",
    "print(\"1.1 Положительная граница машинного нуля:\")\n",
    "print(f\"Для float32: E_k = {result_f32[0]}, итерации: {result_f32[1]}\")\n",
    "print(f\"Для float64: E_k = {result_f64[0]}, итерации: {result_f64[1]}\")\n",
    "\n",
    "\n",
    "def find_machine_epsilon(dtype):\n",
    "    E_k = dtype(1.0)  \n",
    "    k = 0  # \n",
    "\n",
    "    while True:\n",
    "        F_k = dtype(1.0) + E_k / 2  \n",
    "        if F_k == dtype(1.0): \n",
    "            break\n",
    "        E_k /= 2 \n",
    "        k += 1\n",
    "\n",
    "    return E_k, k\n",
    "\n",
    "\n",
    "epsilon_float32 = find_machine_epsilon(np.float32)\n",
    "epsilon_float64 = find_machine_epsilon(np.float64)\n",
    "\n",
    "print(\"\\n1.2 Машинное эпсилон:\")\n",
    "print(f\"Для float32: E_k = {epsilon_float32[0]}, итерации: {epsilon_float32[1]}\")\n",
    "print(f\"Для float64: E_k = {epsilon_float64[0]}, итерации: {epsilon_float64[1]}\")\n",
    "\n"
   ]
  }
 ],
 "metadata": {
  "kernelspec": {
   "display_name": "Python 3",
   "language": "python",
   "name": "python3"
  },
  "language_info": {
   "codemirror_mode": {
    "name": "ipython",
    "version": 3
   },
   "file_extension": ".py",
   "mimetype": "text/x-python",
   "name": "python",
   "nbconvert_exporter": "python",
   "pygments_lexer": "ipython3",
   "version": "3.12.1"
  }
 },
 "nbformat": 4,
 "nbformat_minor": 2
}
