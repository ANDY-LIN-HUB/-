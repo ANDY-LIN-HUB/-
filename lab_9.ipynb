{
 "cells": [
  {
   "cell_type": "code",
   "execution_count": 1,
   "metadata": {},
   "outputs": [
    {
     "name": "stdout",
     "output_type": "stream",
     "text": [
      "Наибольшее собственное значение: 4.618033883331753\n",
      "Собственный вектор, соответствующий наибольшему значению: [0.85076494 0.5255464 ]\n",
      "Наименьшее собственное значение: 2.381966581855721\n",
      "Собственный вектор, соответствующий наименьшему значению: [ 0.52632931 -0.85028081]\n",
      "Граничное собственное значение для c = 0.1: 4.718033835506688\n",
      "Граничное собственное значение для c = 1: 5.618033610057482\n",
      "Граничное собственное значение для c = 10: 14.618031917223146\n"
     ]
    }
   ],
   "source": [
    "import numpy as np\n",
    "\n",
    "def largest_eigenvalue(A, epsilon=1e-6, max_iter=1000):\n",
    "    \"\"\"Находит наибольшее собственное значение матрицы методом степенных итераций.\"\"\"\n",
    "    n = A.shape[0]\n",
    "    x = np.random.rand(n)\n",
    "    x = x / np.linalg.norm(x)\n",
    "    lambda_prev = 0\n",
    "\n",
    "    for k in range(max_iter):\n",
    "        x_new = np.dot(A, x)\n",
    "\n",
    "        # Нормализация вектора\n",
    "        x_new = x_new / np.linalg.norm(x_new)\n",
    "\n",
    "        # Вычисление собственного значения\n",
    "        lambda_new = np.dot(x_new.T, np.dot(A, x_new))\n",
    "\n",
    "        # Проверка условия сходимости\n",
    "        if abs(lambda_new - lambda_prev) < epsilon:\n",
    "            return lambda_new, x_new\n",
    "\n",
    "        x = x_new\n",
    "        lambda_prev = lambda_new\n",
    "\n",
    "    return lambda_new, x_new\n",
    "\n",
    "def smallest_eigenvalue(A, epsilon=1e-6, max_iter=1000):\n",
    "    \"\"\"Находит наименьшее собственное значение матрицы, используя метод обратной матрицы.\"\"\"\n",
    "    A_inv = np.linalg.inv(A)\n",
    "    lambda_max, v_max = largest_eigenvalue(A_inv, epsilon, max_iter)\n",
    "\n",
    "    return 1 / lambda_max, v_max\n",
    "\n",
    "# Матрица\n",
    "A = np.array([[4, 1],\n",
    "              [1, 3]])\n",
    "\n",
    "# Наибольшее собственное значение и вектор\n",
    "lambda_max, v_max = largest_eigenvalue(A)\n",
    "print(f\"Наибольшее собственное значение: {lambda_max}\")\n",
    "print(f\"Собственный вектор, соответствующий наибольшему значению: {v_max}\")\n",
    "\n",
    "# Наименьшее собственное значение и вектор\n",
    "lambda_min, v_min = smallest_eigenvalue(A)\n",
    "print(f\"Наименьшее собственное значение: {lambda_min}\")\n",
    "print(f\"Собственный вектор, соответствующий наименьшему значению: {v_min}\")\n",
    "\n",
    "def spectral_bound(A, c):\n",
    "    \"\"\"Находит граничное собственное значение для сдвинутой матрицы.\"\"\"\n",
    "    n = A.shape[0]\n",
    "    E = np.eye(n)\n",
    "    A_shifted = A + c * E\n",
    "    lambda_max, _ = largest_eigenvalue(A_shifted)\n",
    "    return lambda_max\n",
    "\n",
    "# Различные значения параметра c\n",
    "c_values = [0.1, 1, 10]\n",
    "for c in c_values:\n",
    "    lambda_max_shifted = spectral_bound(A, c)\n",
    "    print(f\"Граничное собственное значение для c = {c}: {lambda_max_shifted}\")\n"
   ]
  },
  {
   "cell_type": "code",
   "execution_count": 2,
   "metadata": {},
   "outputs": [
    {
     "name": "stdout",
     "output_type": "stream",
     "text": [
      "Собственные значения матрицы: [7. 3. 1.]\n",
      "Количество итераций: 8\n"
     ]
    }
   ],
   "source": [
    "import numpy as np\n",
    "\n",
    "def rotation_angle(A, k, l):\n",
    "    if A[k, k] == A[l, l]:\n",
    "        return np.pi / 4\n",
    "    return 0.5 * np.arctan(2 * A[k, l] / (A[k, k] - A[l, l]))\n",
    "\n",
    "def rotation_matrix(A, k, l, theta):\n",
    "    n = A.shape[0]\n",
    "    V = np.eye(n)\n",
    "    V[k, k] = V[l, l] = np.cos(theta)\n",
    "    V[k, l] = -np.sin(theta)\n",
    "    V[l, k] = np.sin(theta)\n",
    "    return V\n",
    "\n",
    "def jacobi_rotation_method(A, epsilon=1e-6, max_iter=1000):\n",
    "    A = np.array(A, dtype=float)\n",
    "    n = A.shape[0]\n",
    "    iterations = 0\n",
    "\n",
    "    while np.max(np.abs(A - np.diag(np.diagonal(A)))) > epsilon and iterations < max_iter:\n",
    "        k, l = np.unravel_index(np.argmax(np.abs(A - np.diag(np.diagonal(A)))), A.shape)\n",
    "        theta = rotation_angle(A, k, l)\n",
    "        V = rotation_matrix(A, k, l, theta)\n",
    "        A = np.dot(np.dot(V.T, A), V)\n",
    "        iterations += 1\n",
    "\n",
    "    eigenvalues = np.diagonal(A)\n",
    "    return eigenvalues, iterations\n",
    "\n",
    "A = np.array([[4, -1, 2],\n",
    "              [-1, 4, -2],\n",
    "              [2, -2, 3]])\n",
    "\n",
    "eigenvalues, iterations = jacobi_rotation_method(A)\n",
    "\n",
    "print(f\"Собственные значения матрицы: {eigenvalues}\")\n",
    "print(f\"Количество итераций: {iterations}\")\n"
   ]
  }
 ],
 "metadata": {
  "kernelspec": {
   "display_name": "Python 3",
   "language": "python",
   "name": "python3"
  },
  "language_info": {
   "codemirror_mode": {
    "name": "ipython",
    "version": 3
   },
   "file_extension": ".py",
   "mimetype": "text/x-python",
   "name": "python",
   "nbconvert_exporter": "python",
   "pygments_lexer": "ipython3",
   "version": "3.12.1"
  }
 },
 "nbformat": 4,
 "nbformat_minor": 2
}
